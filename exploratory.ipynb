{
 "cells": [
  {
   "cell_type": "code",
   "execution_count": 2,
   "id": "5fdad490-0a47-4de3-8bd9-3b425efe7dec",
   "metadata": {},
   "outputs": [],
   "source": [
    "from simple_salesforce import Salesforce\n",
    "from dotenv import load_dotenv\n",
    "import pandas as pd\n",
    "import os\n",
    "\n",
    "#load .env file\n",
    "load_dotenv()\n",
    "\n",
    "#initialize sf credentias\n",
    "sf_username = os.getenv('SF_USERNAME')\n",
    "sf_password = os.getenv('SF_PASSWORD')\n",
    "sf_token = os.getenv('SF_TOKEN')\n",
    "\n",
    "#function to start SF connection\n",
    "def sf_connection():\n",
    "    try:\n",
    "        sf = Salesforce(username=sf_username, password=sf_password, security_token=sf_token)\n",
    "        print(\"*** You're connected to Salesforce ***\")\n",
    "        flows = sf.query(\"SELECT id, IsActive, Label, ProcessType, ManageableState , TriggerObjectOrEventId, TriggerObjectOrEventLabel, TriggerType FROM FlowDefinitionView WHERE isActive = TRUE\")\n",
    "    except Exception as e:\n",
    "        print(f\"Failure: {e}\")"
   ]
  },
  {
   "cell_type": "code",
   "execution_count": null,
   "id": "0b3cac05-a08f-4e03-8e52-b5e431c1ef30",
   "metadata": {},
   "outputs": [],
   "source": []
  }
 ],
 "metadata": {
  "kernelspec": {
   "display_name": "Python 3 (ipykernel)",
   "language": "python",
   "name": "python3"
  },
  "language_info": {
   "codemirror_mode": {
    "name": "ipython",
    "version": 3
   },
   "file_extension": ".py",
   "mimetype": "text/x-python",
   "name": "python",
   "nbconvert_exporter": "python",
   "pygments_lexer": "ipython3",
   "version": "3.10.0"
  }
 },
 "nbformat": 4,
 "nbformat_minor": 5
}
